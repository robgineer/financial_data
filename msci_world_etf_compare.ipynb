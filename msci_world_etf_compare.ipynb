{
 "cells": [
  {
   "cell_type": "markdown",
   "metadata": {},
   "source": [
    "# ETF Comparison \n",
    "\n",
    "Simple comparison of two different MSCI World based ETFs.\n",
    "\n",
    "1. Amundi Index Solutions (swap based)\n",
    "2. XTrackers (replicated)\n",
    "\n",
    "Following code contains data fetch from Yahoo Finance, plot comparison of both ETFs and a simple polynomial regression for both ETFs."
   ]
  },
  {
   "cell_type": "code",
   "execution_count": 1,
   "metadata": {},
   "outputs": [
    {
     "name": "stdout",
     "output_type": "stream",
     "text": [
      "{u'priceToSalesTrailing12Months': None, u'startDate': None, u'threeYearAverageReturn': 0.0375, u'averageVolume': 66577, u'dayHigh': 20.03, u'revenueQuarterlyGrowth': None, u'toCurrency': None, u'maxAge': 1, u'lastMarket': None, u'exDividendDate': None, u'totalAssets': 260582144, u'longName': u'Xtrackers MSCI AC World UCITS ETF 1C', u'open': 19.862, u'ytdReturn': None, u'market': u'de_market', u'exchangeTimezoneName': u'Europe/Berlin', u'bookValue': None, u'morningStarOverallRating': None, u'gmtOffSetMilliseconds': u'7200000', u'regularMarketVolume': 18505, u'averageVolume10days': 2064, u'nextFiscalYearEnd': None, u'isEsgPopulated': False, u'enterpriseToEbitda': None, u'earningsQuarterlyGrowth': None, u'pegRatio': None, u'beta3Year': 1.01, u'fiftyDayAverage': 19.231281, u'regularMarketDayLow': 19.832, u'fiftyTwoWeekLow': 16.726, u'bid': 20.03, u'lastSplitFactor': None, u'quoteType': u'ETF', u'volume': 18505, u'mostRecentQuarter': None, u'lastSplitDate': None, u'longBusinessSummary': u'The aim is for the investment to track the performance before fees and expenses of the MSCI ACWI Index Net Return (Index). As of 28 June 2013, the Index consists of shares of large and medium sized capitalisation stocks across 24 developed markets countries and 21 emerging markets countries and contains 2,424 constituents. In order for securities to be eligible, they must also meet objective screening criteria such as liquidity requirements and free float market capitalisation requirements. The Index is calculated in Euro, and is reviewed and rebalanced on a quarterly basis and may also be rebalanced at other times in order to reflect corporate activity such as mergers and acquisitions. The Index is calculated on a total return net basis. This means that all dividends and distributions by the companies are reinvested in the shares after tax. The Index is reviewed and rebalanced at least quarterly.', u'strikePrice': None, u'expireDate': None, u'averageDailyVolume10Day': 2064, u'52WeekChange': None, u'twoHundredDayAverage': 22.174679, u'annualReportExpenseRatio': None, u'profitMargins': None, u'yield': 0, u'enterpriseToRevenue': None, u'fiftyTwoWeekHigh': 24.825, u'regularMarketOpen': 19.862, u'fiveYearAvgDividendYield': None, u'companyOfficers': [], u'volume24Hr': None, u'dividendRate': None, 'logo_url': '', u'payoutRatio': None, u'priceToBook': None, u'volumeAllCurrencies': None, 'regularMarketPrice': 19.862, u'priceHint': 2, u'forwardPE': None, u'previousClose': 19.578, u'currency': u'EUR', u'morningStarRiskRating': None, u'maxSupply': None, u'navPrice': 20, u'category': None, u'trailingEps': None, u'askSize': 0, u'netIncomeToCommon': None, u'exchangeTimezoneShortName': u'CEST', u'messageBoardId': u'finmb_253211417', u'lastFiscalYearEnd': None, u'fundFamily': u'DWS Investment S.A. (ETF)', u'openInterest': None, u'fundInceptionDate': 1391990400, u'legalType': u'Exchange Traded Fund', u'tradeable': False, u'annualHoldingsTurnover': None, u'lastDividendValue': None, u'fiveYearAverageReturn': 0.037100002, u'regularMarketDayHigh': 20.03, u'exchange': u'GER', u'symbol': u'XMAW.DE', u'enterpriseValue': None, u'dividendYield': None, u'beta': None, u'trailingAnnualDividendRate': None, u'fromCurrency': None, u'ask': 20.045, u'bidSize': 0, u'shortName': u'X(IE)-MSCI AC WORLD 1C', u'regularMarketPreviousClose': 19.578, u'circulatingSupply': None, u'algorithm': None, u'SandP52WeekChange': None, u'lastCapGain': None, u'forwardEps': None, u'dayLow': 19.832, u'trailingAnnualDividendYield': None, u'marketCap': None}\n"
     ]
    },
    {
     "data": {
      "text/plain": [
       "<Figure size 1600x900 with 1 Axes>"
      ]
     },
     "metadata": {},
     "output_type": "display_data"
    }
   ],
   "source": [
    "# base code for Yahoo Finance API data access\n",
    "import yfinance as yf\n",
    "\n",
    "msft = yf.Ticker(\"XMAW.DE\")\n",
    "\n",
    "# get stock info\n",
    "print(msft.info)\n",
    "\n",
    "# get historical market data\n",
    "hist = msft.history(period=\"5d\")\n",
    "import matplotlib.pyplot as plt\n",
    "import seaborn\n",
    "\n",
    "# Plot everything by leveraging the very powerful matplotlib package\n",
    "hist['Close'].plot(figsize=(16, 9))\n",
    "plt.show()"
   ]
  },
  {
   "cell_type": "code",
   "execution_count": null,
   "metadata": {},
   "outputs": [],
   "source": [
    "# PLOT comparison\n",
    "import yfinance as yf\n",
    "import matplotlib.pyplot as plt\n",
    "import seaborn\n",
    "\n",
    "# tracker for AMUNDI and XTRACKER MSCI WORLD based ETF\n",
    "xtracker_msci = yf.Ticker(\"XMAW.DE\")\n",
    "amundi_msci = yf.Ticker(\"AMEW.F\")\n",
    "\n",
    "# get historical data (5 days)\n",
    "hist_xtracker = xtracker_msci.history(period=\"5d\")\n",
    "hist_amundi = amundi_msci.history(period=\"5d\")\n",
    "\n",
    "fig, axes = plt.subplots(nrows=1, ncols=2)\n",
    "\n",
    "axes[0].plot(hist_xtracker.index.strftime('%d/%m'), hist_xtracker['Close'])\n",
    "axes[1].plot(hist_amundi.index.strftime('%d/%m'), hist_amundi['Close'])\n",
    "\n",
    "plt.show()"
   ]
  },
  {
   "cell_type": "code",
   "execution_count": null,
   "metadata": {},
   "outputs": [],
   "source": [
    "# PLOT comparison on same figure (different axes)\n",
    "import yfinance as yf\n",
    "import matplotlib.pyplot as plt\n",
    "import seaborn\n",
    "\n",
    "#get data from FRA stock exchange\n",
    "xtracker_msci = yf.Ticker(\"XMAW.F\")\n",
    "amundi_msci = yf.Ticker(\"AMEW.F\")\n",
    "\n",
    "# stock info print(msft.info)\n",
    "\n",
    "# get data from 5 years\n",
    "hist_amundi = amundi_msci.history(period=\"5y\")\n",
    "hist_xtracker = xtracker_msci.history(period=\"5y\")\n",
    "\n",
    "fig, ax_amundi = plt.subplots()\n",
    "\n",
    "color = 'tab:blue'\n",
    "ax_amundi.set_xlabel('time')\n",
    "ax_amundi.set_ylabel('Close Amundi', color=color)\n",
    "ax_amundi.plot(hist_amundi.index, hist_amundi['Close'], color=color)\n",
    "ax_amundi.tick_params(axis='y', labelcolor=color)\n",
    "\n",
    "ax_xtrackers = ax_amundi.twinx() \n",
    "\n",
    "color = 'tab:red'\n",
    "ax_xtrackers.set_ylabel('Close Xtracker', color=color) \n",
    "ax_xtrackers.plot(hist_xtracker.index, hist_xtracker['Close'], color=color)\n",
    "ax_xtrackers.tick_params(axis='y', labelcolor=color)\n",
    "\n",
    "fig.tight_layout() \n",
    "plt.show()\n"
   ]
  },
  {
   "cell_type": "markdown",
   "metadata": {},
   "source": [
    "--> Plots differ as not all data is available for AMUNDI from FRA stock exchange"
   ]
  },
  {
   "cell_type": "code",
   "execution_count": null,
   "metadata": {},
   "outputs": [],
   "source": [
    "# polynomial fit XTracker data\n",
    "import numpy as np\n",
    "import matplotlib.dates as matplot_dates\n",
    "\n",
    "x = matplot_dates.date2num(hist_xtracker.index)\n",
    "coefs = np.poly1d(np.polyfit(x, hist_xtracker['Close'], 3))\n",
    "\n",
    "ffit = np.poly1d(coefs)\n",
    "x_new = np.linspace(x[0], x[-1], num=len(x)*10)\n",
    "\n",
    "plt.plot(x_new, ffit(x_new))\n",
    "plt.plot(x, hist_xtracker['Close'])"
   ]
  },
  {
   "cell_type": "code",
   "execution_count": null,
   "metadata": {},
   "outputs": [],
   "source": [
    "# polynomial fit AMUNDI data\n",
    "import numpy as np\n",
    "import matplotlib.dates as matplot_dates\n",
    "\n",
    "x = matplot_dates.date2num(hist_amundi.index)\n",
    "coefs = np.poly1d(np.polyfit(x, hist_amundi['Close'], 3))\n",
    "\n",
    "ffit = np.poly1d(coefs)\n",
    "x_new = np.linspace(x[0], x[-1], num=len(x)*10)\n",
    "\n",
    "plt.plot(x_new, ffit(x_new))\n",
    "plt.plot(x, hist_amundi['Close'])"
   ]
  },
  {
   "cell_type": "markdown",
   "metadata": {},
   "source": [
    "Significant difference in regression as XTrackers data contains moire historical values"
   ]
  }
 ],
 "metadata": {
  "kernelspec": {
   "display_name": "Python 2",
   "language": "python",
   "name": "python2"
  },
  "language_info": {
   "codemirror_mode": {
    "name": "ipython",
    "version": 2
   },
   "file_extension": ".py",
   "mimetype": "text/x-python",
   "name": "python",
   "nbconvert_exporter": "python",
   "pygments_lexer": "ipython2",
   "version": "2.7.12"
  }
 },
 "nbformat": 4,
 "nbformat_minor": 2
}
